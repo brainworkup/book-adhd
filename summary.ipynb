{
  "cells": [
    {
      "cell_type": "markdown",
      "metadata": {},
      "source": [
        "# Summary\n",
        "\n",
        "Edited this content from GitHub directly.\n",
        "\n",
        "## Sections\n",
        "\n",
        "### Preschool ADHD\n",
        "\n",
        "To summarize ...\n",
        "\n",
        "### Childhood ADHD\n",
        "\n",
        "### Adult ADHD"
      ]
    }
  ],
  "metadata": {
    "kernelspec": {
      "name": "python3",
      "language": "python",
      "display_name": "Python 3 (ipykernel)"
    }
  },
  "nbformat": 4,
  "nbformat_minor": 4
}