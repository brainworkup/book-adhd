{
  "cells": [
    {
      "cell_type": "markdown",
      "metadata": {},
      "source": [
        "# Introduction\n",
        "\n",
        "This is a book on ADHD about to be created from markdown and executable code.\n",
        "\n",
        "See @knuth84 for additional discussion of literate programming.\n",
        "\n",
        "## ADHD in Preschoolers\n",
        "\n",
        "Intoduction to preschool adhd ...\n",
        "\n",
        "Markdown\\index{Markdown} allows you to write using an easy-to-read, easy-to-write plain text format.\n",
        "\n",
        "{{< include _insertmd.qmd >}}\n",
        "\n",
        "## ADHD in School-Age Children\n",
        "\n",
        "What do we know about childhood ADHD ...\n",
        "\n",
        "See @sec-child for additional context.\n",
        "\n",
        "Click here [School Recs](child.qmd#recommendations-for-school) to go to School Recs section.\n",
        "\n",
        "## ADHD in Adolescents and Teens\n",
        "\n",
        "What do we know about adolescent ADHD ...\n",
        "\n",
        "## ADHD in College Students\n",
        "\n",
        "What do we know about young adult ADHD ...\n",
        "\n",
        "## ADHD in Adults\n",
        "\n",
        "What do we know about adult ADHD ...\n",
        "\n",
        "| Col1 | Col2 | Col3 |\n",
        "|------|------|------|\n",
        "| A    | B    | C    |\n",
        "| E    | F    | G    |\n",
        "| A    | G    | G    |\n",
        "\n",
        ": My Caption {#tbl-letters}\n",
        "\n",
        "See @tbl-letters.\n",
        "\n",
        "## Summary\n",
        "\n",
        "Version {{< var version >}} is a minor upgrade.\n",
        "\n",
        "Please contact us at {{< var email.info >}}.\n",
        "\n",
        "Quarto includes {{< var engine.jupyter >}} and {{< var engine.knitr >}} computation engines."
      ]
    }
  ],
  "metadata": {
    "kernelspec": {
      "display_name": "Julia 1.7.2",
      "language": "julia",
      "name": "julia-1.7"
    },
    "language_info": {
      "file_extension": ".jl",
      "mimetype": "application/julia",
      "name": "julia",
      "version": "1.7.2"
    }
  },
  "nbformat": 4,
  "nbformat_minor": 4
}
